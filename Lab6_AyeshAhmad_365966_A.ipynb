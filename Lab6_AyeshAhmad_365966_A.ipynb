{
 "cells": [
  {
   "cell_type": "markdown",
   "metadata": {},
   "source": [
    "## CS-471: Machine Learning\n",
    "### **Submitted By**:\n",
    "#### **Name**: Ayesh Ahmad\n",
    "#### **CMS**: 365966\n",
    "#### **Class**: BESE-12A\n",
    "---\n",
    "## Lab 5\n",
    "#### Implement the k-Nearest Neighbor Classifier. In the training and test data files, each row contains data about one instance of a plant category where four predictors/attributes are recorded for each plant (namely, leaf length, leaf width, flower length, and flower width), while “plant” is the target class which could be any one of the following at a time: “Arctica” or “Harlequin” or “Caroliniana”.\n",
    "\n",
    "##### Imports"
   ]
  },
  {
   "cell_type": "code",
   "execution_count": 62,
   "metadata": {},
   "outputs": [],
   "source": [
    "import time\n",
    "import pandas as pd\n",
    "import numpy as np\n",
    "from collections import Counter\n",
    "from sklearn.preprocessing import StandardScaler\n",
    "from sklearn.neighbors import KNeighborsClassifier"
   ]
  },
  {
   "cell_type": "markdown",
   "metadata": {},
   "source": [
    "##### Data Preprocessing and Analysis"
   ]
  },
  {
   "cell_type": "code",
   "execution_count": 40,
   "metadata": {},
   "outputs": [
    {
     "name": "stdout",
     "output_type": "stream",
     "text": [
      "Training data:\n",
      "   leaf.length  leaf.width  flower.length  flower.width\n",
      "0    -0.537178    1.479398      -1.283389     -1.315444\n",
      "1    -1.264185    0.788808      -1.226552     -1.315444\n",
      "2    -1.264185   -0.131979      -1.340227     -1.447076\n",
      "3    -1.870024   -0.131979      -1.510739     -1.447076\n",
      "4    -0.052506    2.169988      -1.453901     -1.315444\n",
      "\n",
      "Training labels:\n",
      "0    Arctica\n",
      "1    Arctica\n",
      "2    Arctica\n",
      "3    Arctica\n",
      "4    Arctica\n",
      "Name: plant, dtype: object\n",
      "\n",
      "Test data:\n",
      "   leaf.length  leaf.width  flower.length  flower.width\n",
      "0    -1.748856   -0.362176      -1.340227     -1.315444\n",
      "1    -1.506521    0.098217      -1.283389     -1.315444\n",
      "2    -1.506521    0.788808      -1.340227     -1.183812\n",
      "3    -1.385353    0.328414      -1.397064     -1.315444\n",
      "4    -1.143017   -0.131979      -1.340227     -1.315444\n",
      "\n",
      "Test labels:\n",
      "0    Unknown\n",
      "1    Unknown\n",
      "2    Unknown\n",
      "3    Unknown\n",
      "4    Unknown\n",
      "Name: plant, dtype: object\n"
     ]
    },
    {
     "name": "stderr",
     "output_type": "stream",
     "text": [
      "C:\\Users\\ayesh\\AppData\\Local\\Temp\\ipykernel_19548\\1525549758.py:6: FutureWarning: A value is trying to be set on a copy of a DataFrame or Series through chained assignment using an inplace method.\n",
      "The behavior will change in pandas 3.0. This inplace method will never work because the intermediate object on which we are setting values always behaves as a copy.\n",
      "\n",
      "For example, when doing 'df[col].method(value, inplace=True)', try using 'df.method({col: value}, inplace=True)' or df[col] = df[col].method(value) instead, to perform the operation inplace on the original object.\n",
      "\n",
      "\n",
      "  test_data['plant'].fillna('Unknown', inplace=True)\n",
      "C:\\Users\\ayesh\\AppData\\Local\\Temp\\ipykernel_19548\\1525549758.py:6: FutureWarning: Setting an item of incompatible dtype is deprecated and will raise an error in a future version of pandas. Value 'Unknown' has dtype incompatible with float64, please explicitly cast to a compatible dtype first.\n",
      "  test_data['plant'].fillna('Unknown', inplace=True)\n"
     ]
    }
   ],
   "source": [
    "\n",
    "def load_and_preprocess_data(train_file, test_file):\n",
    "    train_data = pd.read_excel(train_file)\n",
    "    test_data = pd.read_excel(test_file)\n",
    "    \n",
    "    # Filling empty values with 'Unknown'\n",
    "    test_data['plant'].fillna('Unknown', inplace=True)\n",
    " \n",
    "    # Perform data preprocessing\n",
    "    combined_data = pd.concat([train_data, test_data], axis=0)\n",
    "    scaler = StandardScaler()\n",
    "    combined_data[['leaf.length', 'leaf.width', 'flower.length', 'flower.width']] = scaler.fit_transform(combined_data[['leaf.length', 'leaf.width', 'flower.length', 'flower.width']])\n",
    "    train_data = combined_data.iloc[:len(train_data), :]\n",
    "    test_data = combined_data.iloc[len(train_data):, :]\n",
    "    train_data.reset_index(drop=True, inplace=True)\n",
    "    test_data.reset_index(drop=True, inplace=True)\n",
    "    \n",
    "    # Separate features and labels\n",
    "    X_train = train_data[['leaf.length', 'leaf.width', 'flower.length', 'flower.width']]\n",
    "    y_train = train_data['plant']\n",
    "    X_test = test_data[['leaf.length', 'leaf.width', 'flower.length', 'flower.width']]\n",
    "    y_test = test_data['plant']\n",
    "    \n",
    "    return X_train, y_train, X_test, y_test\n",
    "\n",
    "train_file = 'TrainingSet.xlsx'\n",
    "test_file = 'TestingSet.xlsx'\n",
    "X_train, y_train, X_test, y_test = load_and_preprocess_data(train_file, test_file)\n",
    "\n",
    "print(\"Training data:\")\n",
    "print(X_train.head())\n",
    "print(\"\\nTraining labels:\")\n",
    "print(y_train.head())\n",
    "print(\"\\nTest data:\")\n",
    "print(X_test.head())\n",
    "print(\"\\nTest labels:\")\n",
    "print(y_test.head())"
   ]
  },
  {
   "cell_type": "markdown",
   "metadata": {},
   "source": [
    "##### Custom k-NN Classifier Implementation"
   ]
  },
  {
   "cell_type": "code",
   "execution_count": 41,
   "metadata": {},
   "outputs": [],
   "source": [
    "class KNNClassifier:\n",
    "    def __init__(self, k):\n",
    "        self.k = k\n",
    "\n",
    "    def fit(self, X_train, y_train):\n",
    "        self.X_train = X_train\n",
    "        self.y_train = y_train\n",
    "\n",
    "    def predict(self, X_test):\n",
    "        predictions = []\n",
    "        for i in range(len(X_test)):\n",
    "            distances = np.sqrt(np.sum((self.X_train - X_test.iloc[i])**2, axis=1))\n",
    "            nearest_indices = np.argsort(distances)[:self.k]\n",
    "            nearest_labels = self.y_train.iloc[nearest_indices]\n",
    "            most_common = Counter(nearest_labels).most_common(1)\n",
    "            predictions.append(most_common[0][0])\n",
    "        return predictions"
   ]
  },
  {
   "cell_type": "markdown",
   "metadata": {},
   "source": [
    "##### Running the Custom k-NN Classifier"
   ]
  },
  {
   "cell_type": "code",
   "execution_count": 42,
   "metadata": {},
   "outputs": [
    {
     "name": "stdout",
     "output_type": "stream",
     "text": [
      "Predictions for k=3:\n",
      "['Arctica', 'Arctica', 'Arctica', 'Arctica', 'Arctica', 'Arctica', 'Harlequin', 'Harlequin', 'Arctica', 'Arctica', 'Arctica', 'Harlequin', 'Arctica', 'Harlequin', 'Harlequin', 'Carolinian', 'Harlequin', 'Carolinian', 'Carolinian', 'Harlequin', 'Harlequin', 'Carolinian', 'Harlequin', 'Carolinian', 'Harlequin', 'Harlequin', 'Carolinian', 'Carolinian', 'Carolinian', 'Carolinian']\n",
      "Time taken: 0.019622 seconds\n",
      "\n",
      "Predictions for k=5:\n",
      "['Arctica', 'Arctica', 'Arctica', 'Arctica', 'Arctica', 'Arctica', 'Harlequin', 'Harlequin', 'Arctica', 'Arctica', 'Arctica', 'Harlequin', 'Arctica', 'Harlequin', 'Harlequin', 'Carolinian', 'Harlequin', 'Carolinian', 'Carolinian', 'Harlequin', 'Harlequin', 'Carolinian', 'Harlequin', 'Carolinian', 'Harlequin', 'Harlequin', 'Carolinian', 'Carolinian', 'Carolinian', 'Carolinian']\n",
      "Time taken: 0.017727 seconds\n",
      "\n",
      "Predictions for k=7:\n",
      "['Arctica', 'Arctica', 'Arctica', 'Arctica', 'Arctica', 'Arctica', 'Harlequin', 'Harlequin', 'Arctica', 'Arctica', 'Arctica', 'Harlequin', 'Arctica', 'Harlequin', 'Harlequin', 'Carolinian', 'Harlequin', 'Carolinian', 'Carolinian', 'Harlequin', 'Harlequin', 'Carolinian', 'Harlequin', 'Carolinian', 'Harlequin', 'Harlequin', 'Carolinian', 'Carolinian', 'Carolinian', 'Carolinian']\n",
      "Time taken: 0.022873 seconds\n",
      "\n"
     ]
    }
   ],
   "source": [
    "custom_preds = [] \n",
    "k_values = [3, 5, 7]\n",
    "\n",
    "for k in k_values:\n",
    "    knn = KNNClassifier(k)\n",
    "    knn.fit(X_train, y_train)\n",
    "    start_time = time.time()\n",
    "    y_pred = knn.predict(X_test)\n",
    "    end_time = time.time()\n",
    "    print(f\"Predictions for k={k}:\")\n",
    "    print(f\"{y_pred}\")\n",
    "    custom_preds.append(y_pred)\n",
    "    print(f\"Time taken: {end_time - start_time:.6f} seconds\\n\")"
   ]
  },
  {
   "cell_type": "markdown",
   "metadata": {},
   "source": [
    "##### Running the SciKit Learn k-NN Classifier"
   ]
  },
  {
   "cell_type": "code",
   "execution_count": 43,
   "metadata": {},
   "outputs": [
    {
     "name": "stdout",
     "output_type": "stream",
     "text": [
      "Predictions for k=3:\n",
      "['Arctica' 'Arctica' 'Arctica' 'Arctica' 'Arctica' 'Arctica' 'Harlequin'\n",
      " 'Harlequin' 'Arctica' 'Arctica' 'Arctica' 'Harlequin' 'Arctica'\n",
      " 'Harlequin' 'Harlequin' 'Carolinian' 'Harlequin' 'Carolinian'\n",
      " 'Carolinian' 'Harlequin' 'Harlequin' 'Carolinian' 'Harlequin'\n",
      " 'Carolinian' 'Harlequin' 'Harlequin' 'Carolinian' 'Carolinian'\n",
      " 'Carolinian' 'Carolinian']\n",
      "Time taken: 0.001112 seconds\n",
      "\n",
      "Predictions for k=5:\n",
      "['Arctica' 'Arctica' 'Arctica' 'Arctica' 'Arctica' 'Arctica' 'Harlequin'\n",
      " 'Harlequin' 'Arctica' 'Arctica' 'Arctica' 'Harlequin' 'Arctica'\n",
      " 'Harlequin' 'Harlequin' 'Carolinian' 'Harlequin' 'Carolinian'\n",
      " 'Carolinian' 'Harlequin' 'Harlequin' 'Carolinian' 'Harlequin'\n",
      " 'Carolinian' 'Harlequin' 'Harlequin' 'Carolinian' 'Carolinian'\n",
      " 'Carolinian' 'Carolinian']\n",
      "Time taken: 0.001063 seconds\n",
      "\n",
      "Predictions for k=7:\n",
      "['Arctica' 'Arctica' 'Arctica' 'Arctica' 'Arctica' 'Arctica' 'Harlequin'\n",
      " 'Harlequin' 'Arctica' 'Arctica' 'Arctica' 'Harlequin' 'Arctica'\n",
      " 'Harlequin' 'Harlequin' 'Carolinian' 'Harlequin' 'Carolinian'\n",
      " 'Carolinian' 'Harlequin' 'Harlequin' 'Carolinian' 'Harlequin'\n",
      " 'Carolinian' 'Harlequin' 'Harlequin' 'Carolinian' 'Carolinian'\n",
      " 'Carolinian' 'Carolinian']\n",
      "Time taken: 0.005037 seconds\n",
      "\n"
     ]
    }
   ],
   "source": [
    "scikit_preds = []\n",
    "k_values = [3, 5, 7]\n",
    "\n",
    "for k in k_values:\n",
    "    knn = KNeighborsClassifier(n_neighbors=k)\n",
    "    knn.fit(X_train, y_train)\n",
    "    start_time = time.time()\n",
    "    y_pred = knn.predict(X_test)\n",
    "    end_time = time.time()\n",
    "    print(f\"Predictions for k={k}:\")\n",
    "    print(f\"{y_pred}\")\n",
    "    scikit_preds.append(y_pred)\n",
    "    print(f\"Time taken: {end_time - start_time:.6f} seconds\\n\")"
   ]
  },
  {
   "cell_type": "markdown",
   "metadata": {},
   "source": [
    "##### Comparing Custom and SciKit Learn KNN Classifier Predictions"
   ]
  },
  {
   "cell_type": "code",
   "execution_count": 61,
   "metadata": {},
   "outputs": [
    {
     "name": "stdout",
     "output_type": "stream",
     "text": [
      "Intra-Results for custom implementation match.\n",
      "Intra-Results for scikit learn implementation match.\n",
      "Inter-Results match.\n"
     ]
    }
   ],
   "source": [
    "if (custom_preds[0] == custom_preds[1]) and (custom_preds[1] == custom_preds[2]):\n",
    "    print(\"Intra-Results for custom implementation match.\")\n",
    "if (scikit_preds[0] == scikit_preds[1]).all() and (scikit_preds[1] == scikit_preds[2]).all():\n",
    "    print(\"Intra-Results for scikit learn implementation match.\")\n",
    "if (np.array_equal(custom_preds, scikit_preds)):\n",
    "    print(\"Inter-Results match.\")"
   ]
  },
  {
   "cell_type": "markdown",
   "metadata": {},
   "source": [
    "##### Results and Conclusion"
   ]
  },
  {
   "cell_type": "markdown",
   "metadata": {},
   "source": [
    "| k-value | Custom Execution Time (s) | SciKit Execution Time (s) | Absolute Difference (s) | Percentage Difference (%) |\n",
    "| ------- | ------------------------- | ------------------------- | ----------------------- | -------------------------- |\n",
    "| 3       | 0.019622                  | 0.001112                  | 0.018510                | 94.36                      |\n",
    "| 5       | 0.017727                  | 0.001063                  | 0.016664                | 94.00                      |\n",
    "| 7       | 0.022873                  | 0.005037                  | 0.017836                | 77.99                      |\n",
    "\n",
    "As the compared predictions for all k-values match, we can infer the changing the k-value (i.e. between 3, 5, 7) had no varying effect on the predictions. This was crosschecked with skikit learn's own implementation of the k-NN classifier which had the exact same predicitions as the custom k-NN classifier.\n",
    "\n",
    "What did matter in the comparison between scikit learn's implementation and our own is the execution time, wherein scikit learn is up to ~94% faster while producing the exact same results."
   ]
  }
 ],
 "metadata": {
  "kernelspec": {
   "display_name": "Python 3",
   "language": "python",
   "name": "python3"
  },
  "language_info": {
   "codemirror_mode": {
    "name": "ipython",
    "version": 3
   },
   "file_extension": ".py",
   "mimetype": "text/x-python",
   "name": "python",
   "nbconvert_exporter": "python",
   "pygments_lexer": "ipython3",
   "version": "3.12.1"
  }
 },
 "nbformat": 4,
 "nbformat_minor": 2
}
