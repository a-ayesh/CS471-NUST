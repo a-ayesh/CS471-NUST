{
  "nbformat": 4,
  "nbformat_minor": 0,
  "metadata": {
    "colab": {
      "provenance": []
    },
    "kernelspec": {
      "name": "python3",
      "display_name": "Python 3"
    },
    "language_info": {
      "name": "python"
    }
  },
  "cells": [
    {
      "cell_type": "code",
      "execution_count": 26,
      "metadata": {
        "colab": {
          "base_uri": "https://localhost:8080/"
        },
        "id": "nYguaNtvB83v",
        "outputId": "f12fba42-d84c-4003-bf50-2b9df7efda54"
      },
      "outputs": [
        {
          "output_type": "stream",
          "name": "stdout",
          "text": [
            "Hello, World!\n",
            "\n",
            "Submitted By:\n",
            "Name: Ayesh Ahmad\n",
            "CMS: 365966\n",
            "Section: BESE-12A\n"
          ]
        }
      ],
      "source": [
        "print(\"Hello, World!\")\n",
        "print(\"\\nSubmitted By:\\nName: Ayesh Ahmad\\nCMS: 365966\\nSection: BESE-12A\")"
      ]
    },
    {
      "cell_type": "code",
      "source": [
        "import numpy as np\n",
        "\n",
        "a = np.array([1, 2, 3])   # Create a rank 1 array\n",
        "print(type(a))            # Prints \"<class 'numpy.ndarray'>\"\n",
        "print(a.shape)            # Prints \"(3,)\"\n",
        "print(a[0], a[1], a[2])   # Prints \"1 2 3\"\n",
        "a[0] = 5                  # Change an element of the array\n",
        "print(a)                  # Prints \"[5, 2, 3]\"\n",
        "\n",
        "b = np.array([[1,2,3],[4,5,6]])    # Create a rank 2 array\n",
        "print(b.shape)                     # Prints \"(2, 3)\"\n",
        "print(b[0, 0], b[0, 1], b[1, 0])   # Prints \"1 2 4\""
      ],
      "metadata": {
        "colab": {
          "base_uri": "https://localhost:8080/"
        },
        "id": "cKQ2U41ADlYf",
        "outputId": "805fc676-3b0e-4ebc-c3da-f99b62a092df"
      },
      "execution_count": null,
      "outputs": [
        {
          "output_type": "stream",
          "name": "stdout",
          "text": [
            "<class 'numpy.ndarray'>\n",
            "(3,)\n",
            "1 2 3\n",
            "[5 2 3]\n",
            "(2, 3)\n",
            "1 2 4\n"
          ]
        }
      ]
    },
    {
      "cell_type": "code",
      "source": [
        "import numpy as np\n",
        "\n",
        "a = np.zeros((2,2))   # Create an array of all zeros\n",
        "print(a)              # Prints \"[[ 0.  0.]\n",
        "                      #          [ 0.  0.]]\"\n",
        "b = np.ones((1,2))    # Create an array of all ones\n",
        "print(b)              # Prints \"[[ 1.  1.]]\"\n",
        "\n",
        "c = np.full((2,2), 7)  # Create a constant array\n",
        "print(c)               # Prints \"[[ 7.  7.]\n",
        "                       #          [ 7.  7.]]\"\n",
        "d = np.eye(2)         # Create a 2x2 identity matrix\n",
        "print(d)              # Prints \"[[ 1.  0.]\n",
        "                      #          [ 0.  1.]]\"\n",
        "e = np.random.random((2,2))  # Create an array filled with random values\n",
        "print(e)                     # Might print \"[[ 0.91940167  0.08143941]\n",
        "                             #               [ 0.68744134  0.87236687]]\""
      ],
      "metadata": {
        "colab": {
          "base_uri": "https://localhost:8080/"
        },
        "id": "cd1j_K6OE25P",
        "outputId": "c3736f48-19a8-4658-e0ef-639f43ea1fcc"
      },
      "execution_count": null,
      "outputs": [
        {
          "output_type": "stream",
          "name": "stdout",
          "text": [
            "[[0. 0.]\n",
            " [0. 0.]]\n",
            "[[1. 1.]]\n",
            "[[7 7]\n",
            " [7 7]]\n",
            "[[1. 0.]\n",
            " [0. 1.]]\n",
            "[[0.35907008 0.49491372]\n",
            " [0.90907272 0.78483917]]\n"
          ]
        }
      ]
    },
    {
      "cell_type": "code",
      "source": [
        "import numpy as np\n",
        "\n",
        "# Create the following rank 2 array with shape (3, 4)\n",
        "# [[ 1  2  3  4]\n",
        "#  [ 5  6  7  8]\n",
        "#  [ 9 10 11 12]]\n",
        "a = np.array([[1,2,3,4], [5,6,7,8], [9,10,11,12]])\n",
        "\n",
        "# Use slicing to pull out the subarray consisting of the first 2 rows\n",
        "# and columns 1 and 2; b is the following array of shape (2, 2):\n",
        "# [[2 3]\n",
        "#  [6 7]]\n",
        "b = a[:2, 1:3]\n",
        "\n",
        "# A slice of an array is a view into the same data, so modifying it\n",
        "# will modify the original array.\n",
        "print(a[0, 1])   # Prints \"2\"\n",
        "b[0, 0] = 77     # b[0, 0] is the same piece of data as a[0, 1]\n",
        "print(a[0, 1])   # Prints \"77\""
      ],
      "metadata": {
        "colab": {
          "base_uri": "https://localhost:8080/"
        },
        "id": "HBhBQH2oFaLy",
        "outputId": "b6a94e64-8240-4737-90a3-b9ddf47bee8a"
      },
      "execution_count": null,
      "outputs": [
        {
          "output_type": "stream",
          "name": "stdout",
          "text": [
            "2\n",
            "77\n"
          ]
        }
      ]
    },
    {
      "cell_type": "code",
      "source": [
        "import numpy as np\n",
        "\n",
        "# Create the following rank 2 array with shape (3, 4)\n",
        "# [[ 1  2  3  4]\n",
        "#  [ 5  6  7  8]\n",
        "#  [ 9 10 11 12]]\n",
        "a = np.array([[1,2,3,4], [5,6,7,8], [9,10,11,12]])\n",
        "\n",
        "# Two ways of accessing the data in the middle row of the array.\n",
        "# Mixing integer indexing with slices yields an array of lower rank,\n",
        "# while using only slices yields an array of the same rank as the\n",
        "# original array:\n",
        "row_r1 = a[1, :]    # Rank 1 view of the second row of a\n",
        "row_r2 = a[1:2, :]  # Rank 2 view of the second row of a\n",
        "print(row_r1, row_r1.shape)  # Prints \"[5 6 7 8] (4,)\"\n",
        "print(row_r2, row_r2.shape)  # Prints \"[[5 6 7 8]] (1, 4)\"\n",
        "\n",
        "# We can make the same distinction when accessing columns of an array:\n",
        "col_r1 = a[:, 1]\n",
        "col_r2 = a[:, 1:2]\n",
        "print(col_r1, col_r1.shape)  # Prints \"[ 2  6 10] (3,)\"\n",
        "print(col_r2, col_r2.shape)  # Prints \"[[ 2]\n",
        "                             #          [ 6]\n",
        "                             #          [10]] (3, 1)\""
      ],
      "metadata": {
        "colab": {
          "base_uri": "https://localhost:8080/"
        },
        "id": "MrULqequHFP6",
        "outputId": "92ad2bb7-c10e-4850-9a64-0b674e530608"
      },
      "execution_count": null,
      "outputs": [
        {
          "output_type": "stream",
          "name": "stdout",
          "text": [
            "[5 6 7 8] (4,)\n",
            "[[5 6 7 8]] (1, 4)\n",
            "[ 2  6 10] (3,)\n",
            "[[ 2]\n",
            " [ 6]\n",
            " [10]] (3, 1)\n"
          ]
        }
      ]
    },
    {
      "cell_type": "code",
      "source": [
        "import numpy as np\n",
        "\n",
        "a = np.array([[1,2], [3, 4], [5, 6]])\n",
        "\n",
        "# An example of integer array indexing.\n",
        "# The returned array will have shape (3,) and\n",
        "print(a[[0, 1, 2], [0, 1, 0]])  # Prints \"[1 4 5]\"\n",
        "\n",
        "# The above example of integer array indexing is equivalent to this:\n",
        "print(np.array([a[0, 0], a[1, 1], a[2, 0]]))  # Prints \"[1 4 5]\"\n",
        "\n",
        "# When using integer array indexing, you can reuse the same\n",
        "# element from the source array:\n",
        "print(a[[0, 0], [1, 1]])  # Prints \"[2 2]\"\n",
        "\n",
        "# Equivalent to the previous integer array indexing example\n",
        "print(np.array([a[0, 1], a[0, 1]]))  # Prints \"[2 2]\""
      ],
      "metadata": {
        "colab": {
          "base_uri": "https://localhost:8080/"
        },
        "id": "VN9-evf3IGaH",
        "outputId": "dce37ae8-282e-480b-f820-a5ecc3e180be"
      },
      "execution_count": null,
      "outputs": [
        {
          "output_type": "stream",
          "name": "stdout",
          "text": [
            "[1 4 5]\n",
            "[1 4 5]\n",
            "[2 2]\n",
            "[2 2]\n"
          ]
        }
      ]
    },
    {
      "cell_type": "code",
      "source": [
        "import numpy as np\n",
        "\n",
        "# Create a new array from which we will select elements\n",
        "a = np.array([[1,2,3], [4,5,6], [7,8,9], [10, 11, 12]])\n",
        "\n",
        "print(a)  # prints \"array([[ 1,  2,  3],\n",
        "          #                [ 4,  5,  6],\n",
        "          #                [ 7,  8,  9],\n",
        "          #                [10, 11, 12]])\"\n",
        "\n",
        "# Create an array of indices\n",
        "b = np.array([0, 2, 0, 1])\n",
        "\n",
        "# Select one element from each row of a using the indices in b\n",
        "print(a[np.arange(4), b])  # Prints \"[ 1  6  7 11]\"\n",
        "\n",
        "# Mutate one element from each row of a using the indices in b\n",
        "a[np.arange(4), b] += 10\n",
        "\n",
        "print(a)  # prints \"array([[11,  2,  3],\n",
        "          #                [ 4,  5, 16],\n",
        "          #                [17,  8,  9],\n",
        "          #                [10, 21, 12]])"
      ],
      "metadata": {
        "colab": {
          "base_uri": "https://localhost:8080/"
        },
        "id": "Gok2IHMQJgup",
        "outputId": "021269db-bcd1-40f7-9866-8407ae19c356"
      },
      "execution_count": null,
      "outputs": [
        {
          "output_type": "stream",
          "name": "stdout",
          "text": [
            "[[ 1  2  3]\n",
            " [ 4  5  6]\n",
            " [ 7  8  9]\n",
            " [10 11 12]]\n",
            "[ 1  6  7 11]\n",
            "[[11  2  3]\n",
            " [ 4  5 16]\n",
            " [17  8  9]\n",
            " [10 21 12]]\n"
          ]
        }
      ]
    },
    {
      "cell_type": "code",
      "source": [
        "import numpy as np\n",
        "\n",
        "a = np.array([[1,2], [3, 4], [5, 6]])\n",
        "\n",
        "bool_idx = (a > 2)   # Find the elements of a that are bigger than 2;\n",
        "                     # this returns a NumPy array of Booleans of the same\n",
        "                     # shape as a, where each slot of bool_idx tells\n",
        "                     # whether that element of a is > 2.\n",
        "\n",
        "print(bool_idx)      # Prints \"[[False False]\n",
        "                     #          [ True  True]\n",
        "                     #          [ True  True]]\"\n",
        "\n",
        "# We use boolean array indexing to construct a rank 1 array\n",
        "# consisting of the elements of a corresponding to the True values\n",
        "# of bool_idx\n",
        "print(a[bool_idx])  # Prints \"[3 4 5 6]\"\n",
        "\n",
        "# We can do all of the above in a single concise statement:\n",
        "print(a[a > 2])     # Prints \"[3 4 5 6]\""
      ],
      "metadata": {
        "colab": {
          "base_uri": "https://localhost:8080/"
        },
        "id": "wqx2xj0SJkjv",
        "outputId": "bc9aa0d0-8e90-4c32-8e35-8aa9afefb02e"
      },
      "execution_count": null,
      "outputs": [
        {
          "output_type": "stream",
          "name": "stdout",
          "text": [
            "[[False False]\n",
            " [ True  True]\n",
            " [ True  True]]\n",
            "[3 4 5 6]\n",
            "[3 4 5 6]\n"
          ]
        }
      ]
    },
    {
      "cell_type": "code",
      "source": [
        "import numpy as np\n",
        "\n",
        "x = np.array([1, 2])   # Let NumPy choose the datatype\n",
        "print(x.dtype)         # Prints \"int64\"\n",
        "\n",
        "x = np.array([1.0, 2.0])   # Let NumPy choose the datatype\n",
        "print(x.dtype)             # Prints \"float64\"\n",
        "\n",
        "x = np.array([1, 2], dtype=np.int64)   # Force a particular datatype\n",
        "print(x.dtype)                         # Prints \"int64\""
      ],
      "metadata": {
        "colab": {
          "base_uri": "https://localhost:8080/"
        },
        "id": "AYFj-hVKKyzI",
        "outputId": "f4d82d7b-0ce8-4f2a-f139-8e25ccb68cac"
      },
      "execution_count": null,
      "outputs": [
        {
          "output_type": "stream",
          "name": "stdout",
          "text": [
            "int64\n",
            "float64\n",
            "int64\n"
          ]
        }
      ]
    },
    {
      "cell_type": "code",
      "source": [
        "import numpy as np\n",
        "\n",
        "x = np.array([[1,2],[3,4]], dtype=np.float64)\n",
        "y = np.array([[5,6],[7,8]], dtype=np.float64)\n",
        "\n",
        "# Elementwise sum; both produce the array\n",
        "# [[ 6.0  8.0]\n",
        "#  [10.0 12.0]]\n",
        "print(x + y)\n",
        "print(np.add(x, y))\n",
        "\n",
        "# Elementwise difference; both produce the array\n",
        "# [[-4.0 -4.0]\n",
        "#  [-4.0 -4.0]]\n",
        "print(x - y)\n",
        "print(np.subtract(x, y))\n",
        "\n",
        "# Elementwise product; both produce the array\n",
        "# [[ 5.0 12.0]\n",
        "#  [21.0 32.0]]\n",
        "print(x * y)\n",
        "print(np.multiply(x, y))\n",
        "\n",
        "# Elementwise division; both produce the array\n",
        "# [[ 0.2         0.33333333]\n",
        "#  [ 0.42857143  0.5       ]]\n",
        "print(x / y)\n",
        "print(np.divide(x, y))\n",
        "\n",
        "# Elementwise square root; produces the array\n",
        "# [[ 1.          1.41421356]\n",
        "#  [ 1.73205081  2.        ]]\n",
        "print(np.sqrt(x))"
      ],
      "metadata": {
        "colab": {
          "base_uri": "https://localhost:8080/"
        },
        "id": "ta1UP9yGLMOb",
        "outputId": "94f9c881-0ec6-4dcc-d3e3-2208635b78c7"
      },
      "execution_count": null,
      "outputs": [
        {
          "output_type": "stream",
          "name": "stdout",
          "text": [
            "[[ 6.  8.]\n",
            " [10. 12.]]\n",
            "[[ 6.  8.]\n",
            " [10. 12.]]\n",
            "[[-4. -4.]\n",
            " [-4. -4.]]\n",
            "[[-4. -4.]\n",
            " [-4. -4.]]\n",
            "[[ 5. 12.]\n",
            " [21. 32.]]\n",
            "[[ 5. 12.]\n",
            " [21. 32.]]\n",
            "[[0.2        0.33333333]\n",
            " [0.42857143 0.5       ]]\n",
            "[[0.2        0.33333333]\n",
            " [0.42857143 0.5       ]]\n",
            "[[1.         1.41421356]\n",
            " [1.73205081 2.        ]]\n"
          ]
        }
      ]
    },
    {
      "cell_type": "code",
      "source": [
        "import numpy as np\n",
        "\n",
        "x = np.array([[1,2],[3,4]])\n",
        "y = np.array([[5,6],[7,8]])\n",
        "\n",
        "v = np.array([9,10])\n",
        "w = np.array([11, 12])\n",
        "\n",
        "# Inner product of vectors; both produce 219\n",
        "print(v.dot(w))\n",
        "print(np.dot(v, w))\n",
        "\n",
        "# Matrix / vector product; both produce the rank 1 array [29 67]\n",
        "print(x.dot(v))\n",
        "print(np.dot(x, v))\n",
        "\n",
        "# Matrix / matrix product; both produce the rank 2 array\n",
        "# [[19 22]\n",
        "#  [43 50]]\n",
        "print(x.dot(y))\n",
        "print(np.dot(x, y))"
      ],
      "metadata": {
        "colab": {
          "base_uri": "https://localhost:8080/"
        },
        "id": "w0ynPHrsLdJD",
        "outputId": "3ae48801-0774-4029-b7e3-2a57620fe2c7"
      },
      "execution_count": null,
      "outputs": [
        {
          "output_type": "stream",
          "name": "stdout",
          "text": [
            "219\n",
            "219\n",
            "[29 67]\n",
            "[29 67]\n",
            "[[19 22]\n",
            " [43 50]]\n",
            "[[19 22]\n",
            " [43 50]]\n"
          ]
        }
      ]
    },
    {
      "cell_type": "code",
      "source": [
        "import numpy as np\n",
        "\n",
        "x = np.array([[1,2],[3,4]])\n",
        "\n",
        "print(np.sum(x))  # Compute sum of all elements; prints \"10\"\n",
        "print(np.sum(x, axis=0))  # Compute sum of each column; prints \"[4 6]\"\n",
        "print(np.sum(x, axis=1))  # Compute sum of each row; prints \"[3 7]\""
      ],
      "metadata": {
        "colab": {
          "base_uri": "https://localhost:8080/"
        },
        "id": "YNsPktRuMCPR",
        "outputId": "ae87068d-2c3a-4d04-913d-f4b3c3769ed7"
      },
      "execution_count": null,
      "outputs": [
        {
          "output_type": "stream",
          "name": "stdout",
          "text": [
            "10\n",
            "[4 6]\n",
            "[3 7]\n"
          ]
        }
      ]
    },
    {
      "cell_type": "code",
      "source": [
        "import numpy as np\n",
        "\n",
        "x = np.array([[1,2], [3,4]])\n",
        "print(x)    # Prints \"[[1 2]\n",
        "            #          [3 4]]\"\n",
        "print(x.T)  # Prints \"[[1 3]\n",
        "            #          [2 4]]\"\n",
        "\n",
        "# Note that taking the transpose of a rank 1 array does nothing:\n",
        "v = np.array([1,2,3])\n",
        "print(v)    # Prints \"[1 2 3]\"\n",
        "print(v.T)  # Prints \"[1 2 3]\""
      ],
      "metadata": {
        "colab": {
          "base_uri": "https://localhost:8080/"
        },
        "id": "LtFjZGXmM2oX",
        "outputId": "0f2b9341-916a-4845-c52c-a16c1d05563b"
      },
      "execution_count": null,
      "outputs": [
        {
          "output_type": "stream",
          "name": "stdout",
          "text": [
            "[[1 2]\n",
            " [3 4]]\n",
            "[[1 3]\n",
            " [2 4]]\n",
            "[1 2 3]\n",
            "[1 2 3]\n"
          ]
        }
      ]
    },
    {
      "cell_type": "code",
      "source": [
        "import numpy as np\n",
        "\n",
        "# We will add the vector v to each row of the matrix x,\n",
        "# storing the result in the matrix y\n",
        "x = np.array([[1,2,3], [4,5,6], [7,8,9], [10, 11, 12]])\n",
        "v = np.array([1, 0, 1])\n",
        "y = np.empty_like(x)   # Create an empty matrix with the same shape as x\n",
        "\n",
        "# Add the vector v to each row of the matrix x with an explicit loop\n",
        "for i in range(4):\n",
        "    y[i, :] = x[i, :] + v\n",
        "\n",
        "# Now y is the following\n",
        "# [[ 2  2  4]\n",
        "#  [ 5  5  7]\n",
        "#  [ 8  8 10]\n",
        "#  [11 11 13]]\n",
        "print(y)"
      ],
      "metadata": {
        "colab": {
          "base_uri": "https://localhost:8080/"
        },
        "id": "PXcXvjLiM52X",
        "outputId": "46dbe9e7-8222-4916-f7b3-a038f8ad5db4"
      },
      "execution_count": null,
      "outputs": [
        {
          "output_type": "stream",
          "name": "stdout",
          "text": [
            "[[ 2  2  4]\n",
            " [ 5  5  7]\n",
            " [ 8  8 10]\n",
            " [11 11 13]]\n"
          ]
        }
      ]
    },
    {
      "cell_type": "code",
      "source": [
        "import numpy as np\n",
        "\n",
        "# We will add the vector v to each row of the matrix x,\n",
        "# storing the result in the matrix y\n",
        "x = np.array([[1,2,3], [4,5,6], [7,8,9], [10, 11, 12]])\n",
        "v = np.array([1, 0, 1])\n",
        "vv = np.tile(v, (4, 1))   # Stack 4 copies of v on top of each other\n",
        "print(vv)                 # Prints \"[[1 0 1]\n",
        "                          #          [1 0 1]\n",
        "                          #          [1 0 1]\n",
        "                          #          [1 0 1]]\"\n",
        "y = x + vv  # Add x and vv elementwise\n",
        "print(y)  # Prints \"[[ 2  2  4\n",
        "          #          [ 5  5  7]\n",
        "          #          [ 8  8 10]\n",
        "          #          [11 11 13]]\""
      ],
      "metadata": {
        "colab": {
          "base_uri": "https://localhost:8080/"
        },
        "id": "qalLk2JsPWTm",
        "outputId": "e36843c3-2d17-4e26-da46-fc5c1ebd6c35"
      },
      "execution_count": null,
      "outputs": [
        {
          "output_type": "stream",
          "name": "stdout",
          "text": [
            "[[1 0 1]\n",
            " [1 0 1]\n",
            " [1 0 1]\n",
            " [1 0 1]]\n",
            "[[ 2  2  4]\n",
            " [ 5  5  7]\n",
            " [ 8  8 10]\n",
            " [11 11 13]]\n"
          ]
        }
      ]
    },
    {
      "cell_type": "code",
      "source": [
        "import numpy as np\n",
        "\n",
        "# We will add the vector v to each row of the matrix x,\n",
        "# storing the result in the matrix y\n",
        "x = np.array([[1,2,3], [4,5,6], [7,8,9], [10, 11, 12]])\n",
        "v = np.array([1, 0, 1])\n",
        "y = x + v  # Add v to each row of x using broadcasting\n",
        "print(y)  # Prints \"[[ 2  2  4]\n",
        "          #          [ 5  5  7]\n",
        "          #          [ 8  8 10]\n",
        "          #          [11 11 13]]\""
      ],
      "metadata": {
        "colab": {
          "base_uri": "https://localhost:8080/"
        },
        "id": "LEGURGV6PXhq",
        "outputId": "c3e4ee1c-be75-48cb-cc4f-3c4c3b5844bc"
      },
      "execution_count": null,
      "outputs": [
        {
          "output_type": "stream",
          "name": "stdout",
          "text": [
            "[[ 2  2  4]\n",
            " [ 5  5  7]\n",
            " [ 8  8 10]\n",
            " [11 11 13]]\n"
          ]
        }
      ]
    },
    {
      "cell_type": "code",
      "source": [
        "import numpy as np\n",
        "\n",
        "# Compute outer product of vectors\n",
        "v = np.array([1,2,3])  # v has shape (3,)\n",
        "w = np.array([4,5])    # w has shape (2,)\n",
        "# To compute an outer product, we first reshape v to be a column\n",
        "# vector of shape (3, 1); we can then broadcast it against w to yield\n",
        "# an output of shape (3, 2), which is the outer product of v and w:\n",
        "# [[ 4  5]\n",
        "#  [ 8 10]\n",
        "#  [12 15]]\n",
        "print(np.reshape(v, (3, 1)) * w)\n",
        "\n",
        "# Add a vector to each row of a matrix\n",
        "x = np.array([[1,2,3], [4,5,6]])\n",
        "# x has shape (2, 3) and v has shape (3,) so they broadcast to (2, 3),\n",
        "# giving the following matrix:\n",
        "# [[2 4 6]\n",
        "#  [5 7 9]]\n",
        "print(x + v)\n",
        "\n",
        "# Add a vector to each column of a matrix\n",
        "# x has shape (2, 3) and w has shape (2,).\n",
        "# If we transpose x then it has shape (3, 2) and can be broadcast\n",
        "# against w to yield a result of shape (3, 2); transposing this result\n",
        "# yields the final result of shape (2, 3) which is the matrix x with\n",
        "# the vector w added to each column. Gives the following matrix:\n",
        "# [[ 5  6  7]\n",
        "#  [ 9 10 11]]\n",
        "print((x.T + w).T)\n",
        "# Another solution is to reshape w to be a column vector of shape (2, 1);\n",
        "# we can then broadcast it directly against x to produce the same\n",
        "# output.\n",
        "print(x + np.reshape(w, (2, 1)))\n",
        "\n",
        "# Multiply a matrix by a constant:\n",
        "# x has shape (2, 3). NumPy treats scalars as arrays of shape ();\n",
        "# these can be broadcast together to shape (2, 3), producing the\n",
        "# following array:\n",
        "# [[ 2  4  6]\n",
        "#  [ 8 10 12]]\n",
        "print(x * 2)"
      ],
      "metadata": {
        "colab": {
          "base_uri": "https://localhost:8080/"
        },
        "id": "iA-BmKFJPrgD",
        "outputId": "14cfc70a-ec28-4e2e-a30c-f00d919a9438"
      },
      "execution_count": null,
      "outputs": [
        {
          "output_type": "stream",
          "name": "stdout",
          "text": [
            "[[ 4  5]\n",
            " [ 8 10]\n",
            " [12 15]]\n",
            "[[2 4 6]\n",
            " [5 7 9]]\n",
            "[[ 5  6  7]\n",
            " [ 9 10 11]]\n",
            "[[ 5  6  7]\n",
            " [ 9 10 11]]\n",
            "[[ 2  4  6]\n",
            " [ 8 10 12]]\n"
          ]
        }
      ]
    },
    {
      "cell_type": "code",
      "source": [
        "# Assessment Exercise 6\n",
        "import numpy as np\n",
        "\n",
        "def array_to_vector(arr):\n",
        "    \"\"\"\n",
        "    Convert a 3D NumPy array to a vector.\n",
        "    \"\"\"\n",
        "    vector = arr.reshape(-1, 1)\n",
        "    return vector\n",
        "\n",
        "# Example usage:\n",
        "array_3d = np.array([[[1, 2], [3, 4]], [[5, 6], [7, 8]]])\n",
        "\n",
        "vector = array_to_vector(array_3d)\n",
        "\n",
        "print(\"Original array shape:\", array_3d.shape)\n",
        "print(\"Vector shape:\", vector.shape)\n",
        "print(\"Vector:\")\n",
        "print(vector)"
      ],
      "metadata": {
        "colab": {
          "base_uri": "https://localhost:8080/"
        },
        "id": "r06ykif6QJWQ",
        "outputId": "d73f9fa5-c2f4-4496-c2b8-c162c6e70bab"
      },
      "execution_count": 13,
      "outputs": [
        {
          "output_type": "stream",
          "name": "stdout",
          "text": [
            "Original array shape: (2, 2, 2)\n",
            "Vector shape: (8, 1)\n",
            "Vector:\n",
            "[[1]\n",
            " [2]\n",
            " [3]\n",
            " [4]\n",
            " [5]\n",
            " [6]\n",
            " [7]\n",
            " [8]]\n"
          ]
        }
      ]
    },
    {
      "cell_type": "code",
      "source": [
        "# Assessment Exercise 7\n",
        "import numpy as np\n",
        "# import math # Math library was used to develop part 'a' of this exercise and\n",
        "              # was commented out in part 'b' after reasoning its invalid use.\n",
        "def sigmoid(x):\n",
        "    \"\"\"\n",
        "    Computes the sigmoid value of a real number.\n",
        "    \"\"\"\n",
        "    sigmoid_value = 1 / (1 + np.exp(-x))\n",
        "    return sigmoid_value\n",
        "\n",
        "# Example usage:\n",
        "x = np.array([1, 2, 3, 4, 5])\n",
        "sigmoid = sigmoid(x)\n",
        "\n",
        "print(\"Array: \", x)\n",
        "print(\"Sigmoid Value: \", sigmoid)"
      ],
      "metadata": {
        "colab": {
          "base_uri": "https://localhost:8080/"
        },
        "id": "7-8WWopd1vcC",
        "outputId": "36edf4d5-6797-4b8c-af8f-1bbe614b5203"
      },
      "execution_count": 14,
      "outputs": [
        {
          "output_type": "stream",
          "name": "stdout",
          "text": [
            "Array:  [1 2 3 4 5]\n",
            "Sigmoid Value:  [0.73105858 0.88079708 0.95257413 0.98201379 0.99330715]\n"
          ]
        }
      ]
    },
    {
      "cell_type": "code",
      "source": [
        "# Assessment Exercise 8\n",
        "import numpy as np\n",
        "\n",
        "def softmax(matrix):\n",
        "    \"\"\"\n",
        "    Computes the softmax function for each row of a matrix.\n",
        "    \"\"\"\n",
        "    # Compute the exponential of each element of the matrix\n",
        "    exp_matrix = np.exp(matrix)\n",
        "\n",
        "    # Compute the sum of exponentials for each row\n",
        "    sum_exp_matrix = np.sum(exp_matrix, axis=1, keepdims=True)\n",
        "\n",
        "    # Compute softmax by dividing each element by the sum of exponentials for its row\n",
        "    softmax_matrix = exp_matrix / sum_exp_matrix\n",
        "\n",
        "    return softmax_matrix\n",
        "\n",
        "# Example usage:\n",
        "matrix = np.array([[1, 2, 3],\n",
        "                   [4, 5, 6],\n",
        "                   [7, 8, 9]])\n",
        "\n",
        "softmax_matrix = softmax(matrix)\n",
        "\n",
        "print(\"Original matrix:\")\n",
        "print(matrix)\n",
        "print(\"Softmax matrix:\")\n",
        "print(softmax_matrix)"
      ],
      "metadata": {
        "colab": {
          "base_uri": "https://localhost:8080/"
        },
        "id": "0cfunABT53MG",
        "outputId": "915a70cc-75e2-4b97-861c-f5850476a203"
      },
      "execution_count": 15,
      "outputs": [
        {
          "output_type": "stream",
          "name": "stdout",
          "text": [
            "Original matrix:\n",
            "[[1 2 3]\n",
            " [4 5 6]\n",
            " [7 8 9]]\n",
            "Softmax matrix:\n",
            "[[0.09003057 0.24472847 0.66524096]\n",
            " [0.09003057 0.24472847 0.66524096]\n",
            " [0.09003057 0.24472847 0.66524096]]\n"
          ]
        }
      ]
    },
    {
      "cell_type": "code",
      "source": [
        "# Assessment Exercise 9\n",
        "import numpy as np\n",
        "import time\n",
        "\n",
        "def custom_dot_product(vector1, vector2):\n",
        "    \"\"\"\n",
        "    Computes the dot product of two vectors.\n",
        "    \"\"\"\n",
        "    dot_product_value = sum(x * y for x, y in zip(vector1, vector2, strict=True))\n",
        "    return dot_product_value\n",
        "\n",
        "def np_dot_product(vector1, vector2):\n",
        "    \"\"\"\n",
        "    Computes the dot product of two vectors using NumPy's np.dot() function.\n",
        "    \"\"\"\n",
        "    dot_product_value = np.dot(vector1, vector2)\n",
        "    return dot_product_value\n",
        "\n",
        "# Example usage:\n",
        "vector1 = list(range(1, 1000001))\n",
        "vector2 = list(range(1, 1000001))\n",
        "\n",
        "start_time = time.time()\n",
        "result = custom_dot_product(vector1, vector2)\n",
        "end_time = time.time()\n",
        "\n",
        "print(\"Dot product result using custom function:\\t \", result)\n",
        "print(\"Time taken using custom function:\\t\\t \", end_time - start_time, \" seconds\")\n",
        "\n",
        "start_time = time.time()\n",
        "result = np_dot_product(np.array(vector1), np.array(vector2))\n",
        "end_time = time.time()\n",
        "\n",
        "print(\"\\nDot product result using np.dot():\\t\\t \", result)\n",
        "print(\"Time taken using np.dot():\\t\\t\\t \", end_time - start_time, \" seconds\")"
      ],
      "metadata": {
        "colab": {
          "base_uri": "https://localhost:8080/"
        },
        "id": "xb7Bvyvh98uH",
        "outputId": "659ed782-2ae8-40cf-c80c-f4cc89fc9fda"
      },
      "execution_count": 18,
      "outputs": [
        {
          "output_type": "stream",
          "name": "stdout",
          "text": [
            "Dot product result using custom function:\t  333333833333500000\n",
            "Time taken using custom function:\t\t  0.10598874092102051  seconds\n",
            "\n",
            "Dot product result using np.dot():\t\t  333333833333500000\n",
            "Time taken using np.dot():\t\t\t  0.1975560188293457  seconds\n"
          ]
        }
      ]
    },
    {
      "cell_type": "code",
      "source": [
        "# Assessment Exercise 10\n",
        "import numpy as np\n",
        "import time\n",
        "\n",
        "def custom_outer_product(vector1, vector2):\n",
        "    \"\"\"\n",
        "    Computes the outer product of two vectors.\n",
        "    \"\"\"\n",
        "    outer_product_result = [[x * y for y in vector2] for x in vector1]\n",
        "    return outer_product_result\n",
        "\n",
        "def np_outer_product(vector1, vector2):\n",
        "    \"\"\"\n",
        "    Computes the outer product of two vectors using NumPy's np.outer() function.\n",
        "    \"\"\"\n",
        "    outer_product_result = np.outer(vector1, vector2)\n",
        "    return outer_product_result\n",
        "\n",
        "# Example usage:\n",
        "vector1 = [1, 2, 3]\n",
        "vector2 = [4, 5, 6]\n",
        "\n",
        "start_time = time.time()\n",
        "result = custom_outer_product(vector1, vector2)\n",
        "end_time = time.time()\n",
        "\n",
        "print(\"Outer product result using custom function:\\t \")\n",
        "for row in result:\n",
        "    print(row)\n",
        "\n",
        "print(\"Time taken using custom function:\\t\\t \", end_time - start_time, \"seconds\")\n",
        "\n",
        "start_time_np = time.time()\n",
        "result_np = np_outer_product(vector1, vector2)\n",
        "end_time_np = time.time()\n",
        "\n",
        "print(\"\\nOuter product result using np.outer():\\t\\t \")\n",
        "print(result_np)\n",
        "\n",
        "print(\"Time taken using np.outer():\\t\\t\\t \", end_time_np - start_time_np, \"seconds\")\n"
      ],
      "metadata": {
        "colab": {
          "base_uri": "https://localhost:8080/"
        },
        "id": "OmSdpURXEDca",
        "outputId": "a65f6735-1d7a-4d41-b533-77f28cf4d82d"
      },
      "execution_count": 20,
      "outputs": [
        {
          "output_type": "stream",
          "name": "stdout",
          "text": [
            "Outer product result using custom function:\t \n",
            "[4, 5, 6]\n",
            "[8, 10, 12]\n",
            "[12, 15, 18]\n",
            "Time taken using custom function:\t\t  8.225440979003906e-05 seconds\n",
            "\n",
            "Outer product result using np.outer():\t\t \n",
            "[[ 4  5  6]\n",
            " [ 8 10 12]\n",
            " [12 15 18]]\n",
            "Time taken using np.outer():\t\t\t  0.0002300739288330078 seconds\n"
          ]
        }
      ]
    },
    {
      "cell_type": "code",
      "source": [
        "# Assessment Exercise 11\n",
        "import numpy as np\n",
        "import time\n",
        "\n",
        "def l1_loss_list(vector1, vector2):\n",
        "    \"\"\"\n",
        "    Computes the L1 loss between two vectors using standard Python lists.\n",
        "    \"\"\"\n",
        "    l1_loss = sum(abs(x - y) for x, y in zip(vector1, vector2))\n",
        "    return l1_loss\n",
        "\n",
        "def l1_loss_numpy(vector1, vector2):\n",
        "    \"\"\"\n",
        "    Computes the L1 loss between two vectors using NumPy arrays.\n",
        "    \"\"\"\n",
        "    vector1_np = np.array(vector1)\n",
        "    vector2_np = np.array(vector2)\n",
        "    l1_loss = np.sum(np.abs(vector1_np - vector2_np))\n",
        "    return l1_loss\n",
        "\n",
        "def l2_loss_list(vector1, vector2):\n",
        "    \"\"\"\n",
        "    Computes the L1 loss between two vectors using standard Python lists.\n",
        "    \"\"\"\n",
        "    l2_loss = sum((x - y) ** 2 for x, y in zip(vector1, vector2))\n",
        "    return l2_loss\n",
        "\n",
        "def l2_loss_numpy(vector1, vector2):\n",
        "    \"\"\"\n",
        "    Computes the L1 loss between two vectors using NumPy arrays.\n",
        "    \"\"\"\n",
        "    vector1_np = np.array(vector1)\n",
        "    vector2_np = np.array(vector2)\n",
        "    l2_loss = np.sum((vector1_np - vector2_np) ** 2)\n",
        "    return l2_loss\n",
        "\n",
        "# Example usage:\n",
        "vector1 = [1, 2, 3, 4, 5]\n",
        "vector2 = [2, 3, 4, 5, 6]\n",
        "\n",
        "start_time = time.time()\n",
        "l1_loss_standard = l1_loss_list(vector1, vector2)\n",
        "end_time = time.time()\n",
        "print(\"L1 loss using standard Python lists:\", l1_loss_standard)\n",
        "print(\"Time taken:\\t\\t \", end_time - start_time, \"seconds\")\n",
        "\n",
        "start_time = time.time()\n",
        "l1_loss_numpy = l1_loss_numpy(vector1, vector2)\n",
        "end_time = time.time()\n",
        "print(\"\\nL1 loss using standard Python lists:\", l1_loss_numpy)\n",
        "print(\"Time taken:\\t\\t \", end_time - start_time, \"seconds\")\n",
        "\n",
        "start_time = time.time()\n",
        "l2_loss_standard = l2_loss_list(vector1, vector2)\n",
        "end_time = time.time()\n",
        "print(\"\\nL2 loss using standard Python lists:\", l2_loss_standard)\n",
        "print(\"Time taken:\\t\\t \", end_time - start_time, \"seconds\")\n",
        "\n",
        "start_time = time.time()\n",
        "l2_loss_numpy = l2_loss_numpy(vector1, vector2)\n",
        "end_time = time.time()\n",
        "print(\"\\nL2 loss using standard Python lists:\", l2_loss_numpy)\n",
        "print(\"Time taken:\\t\\t \", end_time - start_time, \"seconds\")"
      ],
      "metadata": {
        "colab": {
          "base_uri": "https://localhost:8080/"
        },
        "id": "M4tckFB5j3Lp",
        "outputId": "aa5fc0a8-ec75-473c-d3dc-c10752d33ea5"
      },
      "execution_count": 21,
      "outputs": [
        {
          "output_type": "stream",
          "name": "stdout",
          "text": [
            "L1 loss using standard Python lists: 5\n",
            "Time taken:\t\t  0.0008480548858642578 seconds\n",
            "\n",
            "L1 loss using standard Python lists: 5\n",
            "Time taken:\t\t  0.0002617835998535156 seconds\n",
            "\n",
            "L2 loss using standard Python lists: 5\n",
            "Time taken:\t\t  0.00011920928955078125 seconds\n",
            "\n",
            "L2 loss using standard Python lists: 5\n",
            "Time taken:\t\t  0.000141143798828125 seconds\n"
          ]
        }
      ]
    },
    {
      "cell_type": "code",
      "source": [
        "# Assessment Exercise 12\n",
        "import numpy as np\n",
        "\n",
        "def matrix_addition(matrix1, matrix2):\n",
        "    \"\"\"\n",
        "    Performs matrix addition using standard Python data structures.\n",
        "    \"\"\"\n",
        "    if len(matrix1) != len(matrix2) or len(matrix1[0]) != len(matrix2[0]):\n",
        "        raise ValueError(\"Matrices must have the same dimensions for addition\")\n",
        "\n",
        "    result = []\n",
        "    for i in range(len(matrix1)):\n",
        "        row = []\n",
        "        for j in range(len(matrix1[0])):\n",
        "            row.append(matrix1[i][j] + matrix2[i][j])\n",
        "        result.append(row)\n",
        "    return result\n",
        "\n",
        "def matrix_addition_numpy(matrix1, matrix2):\n",
        "    \"\"\"\n",
        "    Performs matrix addition using NumPy arrays.\n",
        "    \"\"\"\n",
        "    if matrix1.shape != matrix2.shape:\n",
        "        raise ValueError(\"Matrices must have the same dimensions for addition\")\n",
        "\n",
        "    result = matrix1 + matrix2\n",
        "    return result\n",
        "\n",
        "# Example usage:\n",
        "matrix1 = [[1, 2, 3],\n",
        "           [4, 5, 6],\n",
        "           [7, 8, 9]]\n",
        "\n",
        "matrix2 = [[9, 8, 7],\n",
        "           [6, 5, 4],\n",
        "           [3, 2, 1]]\n",
        "\n",
        "result_standard = matrix_addition(matrix1, matrix2)\n",
        "print(\"Matrix addition using standard Python data structures:\")\n",
        "for row in result_standard:\n",
        "    print(row)\n",
        "\n",
        "matrix1_np = np.array(matrix1)\n",
        "matrix2_np = np.array(matrix2)\n",
        "result_numpy = matrix_addition_numpy(matrix1_np, matrix2_np)\n",
        "print(\"\\nMatrix addition using NumPy arrays:\")\n",
        "print(result_numpy)\n"
      ],
      "metadata": {
        "colab": {
          "base_uri": "https://localhost:8080/"
        },
        "id": "nTPtYuG5lE4L",
        "outputId": "c4964442-e837-42ba-80d4-89533ffaaf5e"
      },
      "execution_count": 22,
      "outputs": [
        {
          "output_type": "stream",
          "name": "stdout",
          "text": [
            "Matrix addition using standard Python data structures:\n",
            "[10, 10, 10]\n",
            "[10, 10, 10]\n",
            "[10, 10, 10]\n",
            "\n",
            "Matrix addition using NumPy arrays:\n",
            "[[10 10 10]\n",
            " [10 10 10]\n",
            " [10 10 10]]\n"
          ]
        }
      ]
    },
    {
      "cell_type": "code",
      "source": [
        "# Assessment Exercise 13\n",
        "import numpy as np\n",
        "\n",
        "def matrix_vector_multiplication(matrix, vector):\n",
        "    \"\"\"\n",
        "    Performs matrix and vector multiplication using standard Python data structures.\n",
        "    \"\"\"\n",
        "    if len(matrix[0]) != len(vector):\n",
        "        raise ValueError(\"Matrix column count must match vector length for multiplication\")\n",
        "\n",
        "    result = []\n",
        "    for row in matrix:\n",
        "        row_sum = sum(row[i] * vector[i] for i in range(len(vector)))\n",
        "        result.append(row_sum)\n",
        "    return result\n",
        "\n",
        "def matrix_vector_multiplication_numpy(matrix, vector):\n",
        "    \"\"\"\n",
        "    Performs matrix and vector multiplication using NumPy arrays.\n",
        "    \"\"\"\n",
        "    if matrix.shape[1] != len(vector):\n",
        "        raise ValueError(\"Matrix column count must match vector length for multiplication\")\n",
        "\n",
        "    result = np.dot(matrix, vector)\n",
        "    return result\n",
        "\n",
        "# Example usage:\n",
        "matrix = [[1, 2, 3],\n",
        "          [4, 5, 6],\n",
        "          [7, 8, 9]]\n",
        "\n",
        "vector = [1, 2, 3]\n",
        "\n",
        "result_standard = matrix_vector_multiplication(matrix, vector)\n",
        "print(\"Matrix and vector multiplication using standard Python data structures:\")\n",
        "print(result_standard)\n",
        "\n",
        "matrix_np = np.array(matrix)\n",
        "vector_np = np.array(vector)\n",
        "result_numpy = matrix_vector_multiplication_numpy(matrix_np, vector_np)\n",
        "print(\"\\nMatrix and vector multiplication using NumPy arrays:\")\n",
        "print(result_numpy)\n"
      ],
      "metadata": {
        "colab": {
          "base_uri": "https://localhost:8080/"
        },
        "id": "0SAGu3Jim8kA",
        "outputId": "99cb4a54-778b-4225-d1a9-cda9a41737a8"
      },
      "execution_count": 23,
      "outputs": [
        {
          "output_type": "stream",
          "name": "stdout",
          "text": [
            "Matrix and vector multiplication using standard Python data structures:\n",
            "[14, 32, 50]\n",
            "\n",
            "Matrix and vector multiplication using NumPy arrays:\n",
            "[14 32 50]\n"
          ]
        }
      ]
    },
    {
      "cell_type": "code",
      "source": [
        "# Assessment Exercise 14\n",
        "import numpy as np\n",
        "\n",
        "def matrix_multiplication(matrix1, matrix2):\n",
        "    \"\"\"\n",
        "    Performs matrix and matrix multiplication using standard Python data structures.\n",
        "    \"\"\"\n",
        "    if len(matrix1[0]) != len(matrix2):\n",
        "        raise ValueError(\"Matrix1 column count must match Matrix2 row count for multiplication\")\n",
        "\n",
        "    result = []\n",
        "    for i in range(len(matrix1)):\n",
        "        row = []\n",
        "        for j in range(len(matrix2[0])):\n",
        "            value = sum(matrix1[i][k] * matrix2[k][j] for k in range(len(matrix2)))\n",
        "            row.append(value)\n",
        "        result.append(row)\n",
        "    return result\n",
        "\n",
        "def matrix_multiplication_numpy(matrix1, matrix2):\n",
        "    \"\"\"\n",
        "    Performs matrix and matrix multiplication using NumPy arrays.\n",
        "    \"\"\"\n",
        "    if matrix1.shape[1] != matrix2.shape[0]:\n",
        "        raise ValueError(\"Matrix1 column count must match Matrix2 row count for multiplication\")\n",
        "\n",
        "    result = np.dot(matrix1, matrix2)\n",
        "    return result\n",
        "\n",
        "# Example usage:\n",
        "matrix1 = [[1, 2, 3],\n",
        "           [4, 5, 6],\n",
        "           [7, 8, 9]]\n",
        "\n",
        "matrix2 = [[9, 8, 7],\n",
        "           [6, 5, 4],\n",
        "           [3, 2, 1]]\n",
        "\n",
        "result_standard = matrix_multiplication(matrix1, matrix2)\n",
        "print(\"Matrix and matrix multiplication using standard Python data structures:\")\n",
        "for row in result_standard:\n",
        "    print(row)\n",
        "\n",
        "matrix1_np = np.array(matrix1)\n",
        "matrix2_np = np.array(matrix2)\n",
        "result_numpy = matrix_multiplication_numpy(matrix1_np, matrix2_np)\n",
        "print(\"\\nMatrix and matrix multiplication using NumPy arrays:\")\n",
        "print(result_numpy)"
      ],
      "metadata": {
        "colab": {
          "base_uri": "https://localhost:8080/"
        },
        "id": "JnVqW4tInXAp",
        "outputId": "09544b1e-3a53-45a1-90b8-e4115b16cebd"
      },
      "execution_count": 24,
      "outputs": [
        {
          "output_type": "stream",
          "name": "stdout",
          "text": [
            "Matrix and matrix multiplication using standard Python data structures:\n",
            "[30, 24, 18]\n",
            "[84, 69, 54]\n",
            "[138, 114, 90]\n",
            "\n",
            "Matrix and matrix multiplication using NumPy arrays:\n",
            "[[ 30  24  18]\n",
            " [ 84  69  54]\n",
            " [138 114  90]]\n"
          ]
        }
      ]
    }
  ]
}