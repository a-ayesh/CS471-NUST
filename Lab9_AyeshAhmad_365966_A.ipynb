{
 "cells": [
  {
   "cell_type": "markdown",
   "metadata": {
    "id": "kGNaKm8mZW1H"
   },
   "source": [
    "# K-means Clustering - Lab\n",
    "\n",
    "(http://learn.co/content-license)\n",
    "\n",
    "## Introduction\n",
    "\n",
    "In this lab, we'll learn how to use scikit-learn's implementation of the K-means Clustering algorithm to analyze a dataset!\n",
    "\n",
    "## Objectives\n",
    "\n",
    "You will be able to:\n",
    "\n",
    "* Demonstrate an understanding of how the K-means Clustering algorithm works\n",
    "* Perform K-means Clustering with scikit-learn and interpret results\n",
    "* Use metrics such as Calinski Harabaz Scores (Variance Ratios) to determine the optimal number of clusters\n",
    "\n",
    "\n",
    "## Understanding the K-means Algorithm \n",
    "\n",
    "The k-means clustering algorithm is an iterative algorithm that reaches for a pre-determined number of clusters within an unlabeled dataset, and basically works as follows:\n",
    "\n",
    "- select k initial seeds\n",
    "- assign each observation to the cluster to which it is \"closest\" \n",
    "- recompute the cluster centroids\n",
    "- reassign the observations to one of the clusters according to some rule\n",
    "- stop if there is no reallocation\n",
    "\n",
    "## Creating a Dataset\n",
    "\n",
    "For this lab, we'll create a synthetic dataset to work with, so that there are clearly defined clusters we can work with to see how well the algorithm performs. \n",
    "\n",
    "In the cell below:\n",
    "\n",
    "* Import `make_blobs` from `sklearn.datasets`\n",
    "* Import pandas, numpy, and matplotlib.pyplot, and set the standard alias for each. \n",
    "* Set matplotlib visualizations to display inline\n",
    "* Use numpy to set a random seed of `1`.\n",
    "* Import `KMeans` from `sklearn.cluster`"
   ]
  },
  {
   "cell_type": "code",
   "execution_count": null,
   "metadata": {
    "id": "xUzf84BcZW1Q"
   },
   "outputs": [],
   "source": []
  },
  {
   "cell_type": "markdown",
   "metadata": {
    "id": "3ewBhTw8ZW1S"
   },
   "source": [
    "Now, we'll use `make_blobs` to create our dataset. \n",
    "\n",
    "In the cell below:\n",
    "\n",
    "* Call `make_blobs`, and pass in the following parameters:\n",
    "    * `n_samples=400`\n",
    "    * `n_features=2`\n",
    "    * `centers=6`\n",
    "    * `cluster_std=0.8`"
   ]
  },
  {
   "cell_type": "code",
   "execution_count": null,
   "metadata": {
    "id": "2kZOTLJbZW1T"
   },
   "outputs": [],
   "source": [
    "X, y = None"
   ]
  },
  {
   "cell_type": "markdown",
   "metadata": {
    "id": "fQP3bYn5ZW1V"
   },
   "source": [
    "Now, let's visualize our clusters to see what we've created. Run the cell below to visualize our newly created \"blob\" dataset."
   ]
  },
  {
   "cell_type": "code",
   "execution_count": null,
   "metadata": {
    "id": "fnDiLwyoZW1W"
   },
   "outputs": [],
   "source": [
    "plt.scatter(X[:, 0], X[:, 1], c=y, s=10)"
   ]
  },
  {
   "cell_type": "markdown",
   "metadata": {
    "id": "nvoYC9i8ZW1X"
   },
   "source": [
    "The nice thing about creating a synthetic dataset with `make_blobs` is that it can assign ground-truth clusters, which is why each of the clusters in the visualization above are colored differently. Because of this, we have a way to check the performance of our clustering results against the ground truth of the synthetic dataset. Note that this isn't something that we can do with real-world problems (because if we had labels, we'd likely use supervised learning instead!). However, when learning how to work with clustering algorithms, this provides a solid way for us to learn a bit more about how the algorithm works. \n",
    "\n",
    "## Using K-means\n",
    "\n",
    "Let's go ahead and create a `KMeans` object and fit it to our data. Then, we can explore the results provided by the algorithm to see how well it performs. \n",
    "\n",
    "In the cell below:\n",
    "\n",
    "* Create a `KMeans` object, and set the `n_clusters` parameter to `6`.\n",
    "* `fit()` the KMeans object to the data stored in `X`.\n",
    "* Use the KMeans object to predict which clusters each data point belongs to by using the `Predict` method on the data stored in `X`."
   ]
  },
  {
   "cell_type": "code",
   "execution_count": null,
   "metadata": {
    "id": "Fgx1B7TZZW1Z"
   },
   "outputs": [],
   "source": [
    "k_means = None\n",
    "\n",
    "predicted_clusters = None"
   ]
  },
  {
   "cell_type": "markdown",
   "metadata": {
    "id": "ZimP27hAZW1b"
   },
   "source": [
    "Now that we have the predicted clusters, let's visualize them both and compare the two. \n",
    "\n",
    "In the cell below: \n",
    "\n",
    "* Create a scatter plot as we did up above, but this time, set `c=predicted_clusters`. The first two arguments and `s=10` should stay the same. \n",
    "* Get the cluster centers from the object's `.cluster_centers_` attribute. \n",
    "* Create another scatter plot, but this time, for the first two arguments, pass in `centers[:, 0]` and `centers[:, 1]`. Also set `c='black'` and `s=70`."
   ]
  },
  {
   "cell_type": "code",
   "execution_count": null,
   "metadata": {
    "id": "e-_EhxWvZW1c"
   },
   "outputs": [],
   "source": [
    "\n",
    "centers = None\n"
   ]
  },
  {
   "cell_type": "markdown",
   "metadata": {
    "id": "Oec7ewLOZW1e"
   },
   "source": [
    "**_Question:_**\n",
    "\n",
    "In your opinion, do the centroids match up with the cluster centers?\n",
    "\n",
    "Write your answer below this line:\n",
    "_______________________________________________________________________________\n",
    "\n",
    "\n",
    "\n",
    "## Tuning Parameters\n",
    "\n",
    "As you can see, the k-means algorithm is pretty good at identifying the clusters. Do keep in mind that for a real data set, you will not be able to evaluate the method as such, as we don't know a priori what the clusters should be. This is the nature of unsupervised learning. The Scikit learn documentation does suggest two methods to evaluate your clusters when the \"ground truth\" is not known: the Silhouette coefficient and the Calinski-Harabaz Index. We'll talk about them later, but first, let's look at the Scikit learn options when using the KMeans function.\n",
    "\n",
    "The nice hing about the scikit learn k-means clustering algorithm is that certain parameters can be specified to tweak the algorithm. We'll discuss two important parameters which we haven't specified before: `init` and `algorithm`.\n",
    "\n",
    "### 1. The `init` parameter\n",
    "\n",
    "`init` specifies the method for initialization:\n",
    "\n",
    "- `k-means++` is the default method, this method selects initial cluster centers in a smart way in order to pursue fast convergence.\n",
    "- `random`: choose k random observations for the initial centroids.\n",
    "- `ndarray`: you can pass this argument and provide initial centers.\n",
    "\n",
    "### 2. The `algorithm` parameter\n",
    "\n",
    "`algorithm` specifies the algorithm used:\n",
    "\n",
    "- If `full` is specified, a full EM-style algorithm is performed. EM is short for \"Expectation Maximization\" and its name is derived from the nature of the algorithm, where in each iteration an E-step (in the context of K-means clustering, the points are assigned to the nearest center) and an M-step (the cluster mean is updated based on the elements of the cluster) is created. \n",
    "- The EM algorithm can be slow. The `elkan` variation is more efficient, but not available for sparse data.\n",
    "- The default is `auto`, and automatically selects `full` for sparse data and `elkan` for dense data. \n",
    "\n",
    "### Dealing With an Unknown Number of Clusters\n",
    "\n",
    "Now, let's create another dataset. This time, we'll randomly generate a number between 3 and 8 to determine the number of clusters, without us knowing what that value actually is. \n",
    "\n",
    "In the cell below:\n",
    "\n",
    "* Create another dataset using `make_blobs`. Pass in the following parameters:\n",
    "    * `n_samples=400`\n",
    "    * `n_features=2`\n",
    "    * `centers=np.random.randint(3, 8)`\n",
    "    * `cluster_std = 0.8`"
   ]
  },
  {
   "cell_type": "code",
   "execution_count": null,
   "metadata": {
    "id": "wAONCHhQZW1g"
   },
   "outputs": [],
   "source": [
    "X_2, y_2 = None"
   ]
  },
  {
   "cell_type": "markdown",
   "metadata": {
    "id": "SFgStSEkZW1h"
   },
   "source": [
    "Now, we've created a dataset, but we don't know how many clusters actually exist in this dataset, so we don't know what value to set for K!\n",
    "\n",
    "In order to figure out the best value for K, we'll create a different version of the clustering algorithm for each potential value of K, and find the best one using an **_Elbow Plot_**.   \n",
    "\n",
    "First, we'll need to create a different \n",
    "\n",
    "In the cell below, create and fit each `KMeans` object. Each one should be initialized with a different value for `n_clusters` between 3 and 7, inclusive.\n",
    "\n",
    "Then, store each of the objects in a list. "
   ]
  },
  {
   "cell_type": "code",
   "execution_count": null,
   "metadata": {
    "id": "Gs5KOfNiZW1i"
   },
   "outputs": [],
   "source": [
    "k_means_3 = None\n",
    "k_means_4 = None\n",
    "k_means_5 = None\n",
    "k_means_6 = None\n",
    "k_means_7 = None\n",
    "\n",
    "k_list = None"
   ]
  },
  {
   "cell_type": "markdown",
   "metadata": {
    "id": "hmeMGAz8ZW1j"
   },
   "source": [
    "Now, in the cell below, import `calinski_harabaz_score` from `sklearn.metrics`. "
   ]
  },
  {
   "cell_type": "code",
   "execution_count": null,
   "metadata": {
    "id": "EyPClrU4ZW1j"
   },
   "outputs": [],
   "source": []
  },
  {
   "cell_type": "markdown",
   "metadata": {
    "id": "UDQMNdsNZW1k"
   },
   "source": [
    "This is a metric used to judge how good our overall fit is. This score works by computing a ratio of between-cluster distance to inter-cluster distance. Intuitively, we can assume that good clusters will have smaller distances between the points in each cluster, and larger distances to the points in other clusters.\n",
    "\n",
    "Note that it's not a good idea to just exhaustively try every possible value for k. As K grows, the number of points inside each cluster shrinks, until K is equal to the total number of items in our dataset. At this point, each cluster would report a perfect variance ratio, since each point is at the center of their own individual cluster! \n",
    "\n",
    "Instead, our best method is to plot the variance ratios, and find the **_elbow_** in the plot. Here's an example of the type of plot we'll generate:\n",
    "\n",
    "<img src='elbow-method.png'>\n",
    "\n",
    "In this example, the elbow is at K=3. This provides the biggest change to the CH score, and every one after that provides only a minimal improvement. \n",
    "\n",
    "In the cell below:\n",
    "\n",
    "* Create an empty list called `CH_score`\n",
    "* Loop through the models we stored in `k_list`. \n",
    "    * For each model, get the labels from the `.labels_` attribute.\n",
    "    * Calculate the `calinski_harabaz_score` and pass in the data, `X_2`, and the `labels`. Append this score to `CH_score`"
   ]
  },
  {
   "cell_type": "code",
   "execution_count": null,
   "metadata": {
    "id": "gDhffeIUZW1k"
   },
   "outputs": [],
   "source": [
    "CH_score = None\n",
    "\n"
   ]
  },
  {
   "cell_type": "markdown",
   "metadata": {
    "id": "m48CdnvOZW1l"
   },
   "source": [
    "Now, let's create a visualization of our CH scores. \n",
    "\n",
    "Run the cell below to visualize our elbow plot of CH scores. "
   ]
  },
  {
   "cell_type": "code",
   "execution_count": null,
   "metadata": {
    "id": "EcoLNJi8ZW1l"
   },
   "outputs": [],
   "source": [
    "plt.plot([3, 4, 5, 6, 7], CH_score)\n",
    "plt.xticks([3,4,5,6,7])\n",
    "plt.title(\"Calinski Harabaz Scores for Different Values of K\")\n",
    "plt.ylabel(\"Variance Ratio\")\n",
    "plt.xlabel(\"K=\")\n",
    "plt.show()"
   ]
  },
  {
   "cell_type": "markdown",
   "metadata": {
    "id": "d0uWrY1CZW1m"
   },
   "source": [
    "**_Question:_**  Interpret the elbow plot we just created. Where is the \"elbow\" in this plot? According to this plot, how many clusters do you think actually exist in the dataset we created?\n",
    "\n",
    "Write your answer below this line:\n",
    "_______________________________________________________________________________\n",
    "\n",
    "\n",
    "Let's end by visualizing our `X_2` dataset we created, to see what our data actually looks like.\n",
    "\n",
    "In the cell below, create a scatterplot to visualize our dataset stored in `X_2`. Set `c=y_2`, so that the plot colors each point according to its ground-truth cluster, and set `s=10` so the points won't be too big. "
   ]
  },
  {
   "cell_type": "code",
   "execution_count": null,
   "metadata": {
    "id": "RdObi019ZW1m"
   },
   "outputs": [],
   "source": []
  },
  {
   "cell_type": "markdown",
   "metadata": {
    "id": "sF08XUFAZW1n"
   },
   "source": [
    "We were right! The data does actually contain six clusters. Note that are other types of metrics that can also be used to evaluate the correct value for K, such as silhouette score. However, checking the variance ratio by calculating Calinski Harabaz Scores is one of the most tried-and-true methods, and should definitely be one of the first tools you reach for when trying to figure out the optimal value for K with K-means clustering. \n",
    "\n",
    "## A Note on Dimensionality\n",
    "\n",
    "We should also note that for this example, we were able to visualize our data because it only contained two dimensions. In the real world, working with datasets with only two dimensions is quite rare. This means that you can't always visualize your plots to double check your work. For this reason, it's extra important to be considerate about the metrics you use to evaluate the performance of your clustering algorithm, since you won't be able to \"eyeball\" it to visually check how many clusters the data looks like it has when you're working with datasets that contain hundreds of dimensions!\n",
    "\n",
    "\n",
    "## Summary\n",
    "\n",
    "In this lesson, we learned how to use the K-means clustering algorithm in scikit-learn. We also learned a strategy for finding the optimal value for K by using elbow plots and variance ratios, for when we're working with data and we don't know how many clusters actually exist. "
   ]
  },
  {
   "cell_type": "markdown",
   "metadata": {
    "id": "ezxiVYV9um96"
   },
   "source": [
    "# Agglomerative Clustering "
   ]
  },
  {
   "cell_type": "markdown",
   "metadata": {
    "id": "WYxBzb_AvBCP"
   },
   "source": [
    "   A hierarchical type of clustering applies either \"top-down\" or \"bottom-up\" method for clustering observation data. Agglomerative is a hierarchical clustering method that applies the \"bottom-up\" approach to group the elements in a dataset. In this method, each element starts its own cluster and progressively merges with other clusters according to certain criteria.\n",
    "\n",
    "\n",
    "   A scikit-learn provides the AgglomerativeClustering class to implement the agglomerative clustering method. In this tutorial, we'll learn how to cluster data with the AgglomerativeClustering method in Python. The tutorial covers:\n",
    "   1. Preparing the data\n",
    "   2. Clustering with the AgglomerativeClustering\n",
    "   3. Visualize dendrogram"
   ]
  },
  {
   "cell_type": "markdown",
   "metadata": {
    "id": "oPXEuIluvT9J"
   },
   "source": [
    "## Creating a Dataset\n",
    "\n",
    "For this task, we'll create another synthetic dataset to work with, so we can work with it to see how well the algorithm performs. \n",
    "\n",
    "In the cell below:\n",
    "\n",
    "* Import `AgglomerativeClustering` from `sklearn.clusters`\n",
    "* Import `make_blobs` from `sklearn.datasets`\n",
    "* Import pandas, numpy, and matplotlib.pyplot, and set the standard alias for each. \n",
    "* Set matplotlib visualizations to display inline\n",
    "* Use numpy to set a random seed of `1`.\n"
   ]
  },
  {
   "cell_type": "code",
   "execution_count": null,
   "metadata": {
    "id": "rlogdJwSwO0P"
   },
   "outputs": [],
   "source": []
  },
  {
   "cell_type": "markdown",
   "metadata": {
    "id": "xnVU2lHCwQFs"
   },
   "source": [
    "## Clustering with the AgglomerativeClustering\n",
    "\n",
    "Next, we'll define the model and fit it on x data. A scikit-learn provides an AgglomerativeClustering class to implement the agglomerative clustering algorithm. It has several parameters to set. The linkage parameter defines the merging criteria that the distance method between the sets of the observation data.  The `ward`, `complete`, `average`, and `single` methods can be used. Affinity parameter defines the distance metric to compute the linkage. The number of clusters can be set with the n_clusters parameter.\n",
    "   \n",
    "Let's go ahead and create a `AgglomerativeClustering` object and fit it to our data. Then, we can explore the results provided by the algorithm to see how well it performs. \n",
    "\n",
    "In the cell below:\n",
    "\n",
    "* Create a `AgglomerativeClustering` object, and set the `n_clusters` parameter to `6`.\n",
    "* `fit()` the AgglomerativeClustering object to the dataset.\n",
    "* Use the AgglomerativeClustering object to predict which clusters each data point belongs to by using the `Predict` method. Use\n",
    "  * affinity as 'euclidean'\n",
    "  * compute_full_tree as 'auto'\n",
    "  * connectivity as `None`\n",
    "  * linkage as 'ward'\n",
    "  * memory as 'None'\n",
    "  * n_clusters to 6\n"
   ]
  },
  {
   "cell_type": "code",
   "execution_count": null,
   "metadata": {
    "id": "vSIfvCC2uyfA"
   },
   "outputs": [],
   "source": [
    "aggloclust =\n",
    "# print aggloclust\n"
   ]
  },
  {
   "cell_type": "markdown",
   "metadata": {
    "id": "cR82Fq-50PqU"
   },
   "source": [
    "get the clustered labels"
   ]
  },
  {
   "cell_type": "code",
   "execution_count": null,
   "metadata": {
    "id": "CxJZkx4r0Tk-"
   },
   "outputs": [],
   "source": [
    "labels = aggloclust.labels_"
   ]
  },
  {
   "cell_type": "markdown",
   "metadata": {
    "id": "GGlR_9fs0abF"
   },
   "source": [
    "Visualize the clustered points by separating them with different colors.\n"
   ]
  },
  {
   "cell_type": "code",
   "execution_count": null,
   "metadata": {
    "id": "S0HYC8FeyS4n"
   },
   "outputs": [],
   "source": [
    "plt.scatter(x[:,0], x[:,1], c=labels)\n",
    "plt.show()"
   ]
  },
  {
   "cell_type": "markdown",
   "metadata": {
    "id": "jfoHCLHQ0kbF"
   },
   "source": [
    "We can also check the clustering results by changing the number of clusters.\n"
   ]
  },
  {
   "cell_type": "code",
   "execution_count": null,
   "metadata": {
    "id": "nFl2FGUQ0mBp"
   },
   "outputs": [],
   "source": [
    "f = plt.figure()\n",
    "f.add_subplot(2, 3, 1)\n",
    "for i in range(2, 7):\n",
    " aggloclust=AgglomerativeClustering(n_clusters=i).fit(x)\n",
    " f.add_subplot(2, 3, i-1)\n",
    " plt.scatter(x[:,0], x[:,1], s=5, \n",
    "     c=aggloclust.labels_, label=\"n_cluster-\"+str(i))\n",
    " plt.legend()\n",
    "plt.show()"
   ]
  },
  {
   "cell_type": "markdown",
   "metadata": {
    "id": "1XWUe6sU1Gtu"
   },
   "source": [
    "Now visualize the `dendrogram`"
   ]
  },
  {
   "cell_type": "code",
   "execution_count": null,
   "metadata": {
    "id": "yaJH9QqD1VqR"
   },
   "outputs": [],
   "source": []
  }
 ],
 "metadata": {
  "colab": {
   "name": "kmeans+Agglomerative Clustering .ipynb",
   "provenance": []
  },
  "kernelspec": {
   "display_name": "Python 3 (ipykernel)",
   "language": "python",
   "name": "python3"
  },
  "language_info": {
   "codemirror_mode": {
    "name": "ipython",
    "version": 3
   },
   "file_extension": ".py",
   "mimetype": "text/x-python",
   "name": "python",
   "nbconvert_exporter": "python",
   "pygments_lexer": "ipython3",
   "version": "3.11.5"
  }
 },
 "nbformat": 4,
 "nbformat_minor": 1
}
